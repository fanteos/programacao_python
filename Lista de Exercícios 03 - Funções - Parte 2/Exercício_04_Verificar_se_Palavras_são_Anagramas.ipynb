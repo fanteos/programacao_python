{
  "nbformat": 4,
  "nbformat_minor": 0,
  "metadata": {
    "colab": {
      "name": "Exercício 04 - Verificar se Palavras são Anagramas.ipynb",
      "private_outputs": true,
      "provenance": [],
      "collapsed_sections": []
    },
    "kernelspec": {
      "name": "python3",
      "display_name": "Python 3"
    },
    "language_info": {
      "name": "python"
    }
  },
  "cells": [
    {
      "cell_type": "code",
      "execution_count": null,
      "metadata": {
        "id": "D3gfV5UeIZXS"
      },
      "outputs": [],
      "source": [
        "#Escreva um programa utilizando a linguagem python com uma função \n",
        "#que receba duas cadeias de caracteres (strings). \n",
        "#A função então deverá verificar se as strings são anagramas uma da outra. \n",
        "#Um anagrama é uma palavra ou frase criada a partir da transposição \n",
        "#de letras de outra. A função deverá retornar True caso as palavras \n",
        "#sejam anagramas ou False caso contrário.\n",
        "\n",
        "#Para a seguinte entrada: \n",
        "  #amor roma\n",
        "\n",
        "#A função deverá retornar: \n",
        "  #True"
      ]
    },
    {
      "cell_type": "code",
      "source": [
        "#Funções\n",
        "def verificar_anagrama(string1, string2):\n",
        "  flag = False\n",
        "\n",
        "  string1_ordenada = sorted(string1)\n",
        "  string2_ordenada = sorted(string2)\n",
        "\n",
        "  print(string1_ordenada, string2_ordenada)\n",
        "\n",
        "  if(string1_ordenada == string2_ordenada):\n",
        "    flag = True\n",
        "\n",
        "  return flag"
      ],
      "metadata": {
        "id": "ZiAq7EkcJ3Gh"
      },
      "execution_count": null,
      "outputs": []
    },
    {
      "cell_type": "code",
      "source": [
        "#Main\n",
        "print(verificar_anagrama(\"amor\", \"roma\"))"
      ],
      "metadata": {
        "id": "RLRQgIyGJ4xS"
      },
      "execution_count": null,
      "outputs": []
    }
  ]
}