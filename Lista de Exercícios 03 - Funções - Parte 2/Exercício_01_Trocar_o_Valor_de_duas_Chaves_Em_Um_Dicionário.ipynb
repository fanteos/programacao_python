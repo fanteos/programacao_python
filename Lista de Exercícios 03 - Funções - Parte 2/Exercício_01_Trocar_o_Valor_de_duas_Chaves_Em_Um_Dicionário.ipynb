{
  "nbformat": 4,
  "nbformat_minor": 0,
  "metadata": {
    "colab": {
      "name": "Exercício 01 - Trocar o Valor de duas Variáveis.ipynb",
      "private_outputs": true,
      "provenance": [],
      "collapsed_sections": []
    },
    "kernelspec": {
      "name": "python3",
      "display_name": "Python 3"
    },
    "language_info": {
      "name": "python"
    }
  },
  "cells": [
    {
      "cell_type": "code",
      "source": [
        "#Escreva um programa utilizando a linguagem python com uma função \n",
        "#que receba um dicionário com dois elementos. \n",
        "#A função então deverá trocar o valor dos dois elementos. \n",
        "#A função receberá um dicionário com as chaves K e J \n",
        "#e deverá atribuir a J o valor inicial de K e a K o valor \n",
        "#inicial de J.\n",
        "\n",
        "#Para a seguinte entrada: \n",
        "  #{\"K\":5, \"J\":7}\n",
        "\n",
        "#Ao fim da execução os valores das variáveis deverão ser:\n",
        " #{\"K\":7, \"J\":5}"
      ],
      "metadata": {
        "id": "w7uWTkpc1dAm"
      },
      "execution_count": null,
      "outputs": []
    },
    {
      "cell_type": "code",
      "source": [
        "#Função\n",
        "def trocar_valores(dicionario):\n",
        "  temp = dicionario[\"K\"]\n",
        "  dicionario[\"K\"] = dicionario[\"J\"]\n",
        "  dicionario[\"J\"] = temp"
      ],
      "metadata": {
        "id": "i2UcfSKWDtPA"
      },
      "execution_count": null,
      "outputs": []
    },
    {
      "cell_type": "code",
      "source": [
        "#Main\n",
        "dicionario_test = {\"K\":5,\n",
        "                   \"J\":7}\n",
        "print(\"O valor de K é %d e J é %d\" % (dicionario_test[\"K\"], \\\n",
        "                                       dicionario_test[\"J\"]))\n",
        "trocar_valores(dicionario_test)\n",
        "print(\"O valor de K é %d e J é %d\" % (dicionario_test[\"K\"], \\\n",
        "                                       dicionario_test[\"J\"]))"
      ],
      "metadata": {
        "id": "uavrfVGRDvff"
      },
      "execution_count": null,
      "outputs": []
    }
  ]
}