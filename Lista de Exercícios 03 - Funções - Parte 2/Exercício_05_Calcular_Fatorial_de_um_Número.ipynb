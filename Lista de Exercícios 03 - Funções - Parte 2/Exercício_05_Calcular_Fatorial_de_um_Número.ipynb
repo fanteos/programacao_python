{
  "nbformat": 4,
  "nbformat_minor": 0,
  "metadata": {
    "colab": {
      "name": "Exercício 05 - Calcular Fatorial de um Número.ipynb",
      "private_outputs": true,
      "provenance": []
    },
    "kernelspec": {
      "name": "python3",
      "display_name": "Python 3"
    },
    "language_info": {
      "name": "python"
    }
  },
  "cells": [
    {
      "cell_type": "code",
      "execution_count": null,
      "metadata": {
        "id": "izjc4P8kMnuO"
      },
      "outputs": [],
      "source": [
        "#Escreva um programa utilizando a linguagem python com uma função \n",
        "#que calcule o fatorial de um número inteiro.\n",
        "#Para a seguinte entrada:\n",
        "  #5\n",
        "#A função deverá retornar:\n",
        "  #120"
      ]
    },
    {
      "cell_type": "code",
      "source": [
        "#Função\n",
        "def fatorial(num):\n",
        "  fatorial = 1\n",
        "\n",
        "  for i in range(2, num+1):\n",
        "    fatorial = fatorial * i\n",
        "\n",
        "  return fatorial"
      ],
      "metadata": {
        "id": "BKs1oBvnPNG9"
      },
      "execution_count": null,
      "outputs": []
    },
    {
      "cell_type": "code",
      "source": [
        "#Main\n",
        "print(fatorial(6))"
      ],
      "metadata": {
        "id": "UC9ZpXIAPOnJ"
      },
      "execution_count": null,
      "outputs": []
    }
  ]
}