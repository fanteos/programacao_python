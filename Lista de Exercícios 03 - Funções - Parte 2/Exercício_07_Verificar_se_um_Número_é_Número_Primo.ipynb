{
  "nbformat": 4,
  "nbformat_minor": 0,
  "metadata": {
    "colab": {
      "name": "Exercício 07 - Verificar se um Número é Número Primo.ipynb",
      "private_outputs": true,
      "provenance": [],
      "collapsed_sections": []
    },
    "kernelspec": {
      "name": "python3",
      "display_name": "Python 3"
    },
    "language_info": {
      "name": "python"
    }
  },
  "cells": [
    {
      "cell_type": "code",
      "execution_count": null,
      "metadata": {
        "id": "zFQLz_QbNfkx"
      },
      "outputs": [],
      "source": [
        "#Escreva um programa utilizando a linguagem python com uma função \n",
        "#que verifique se um número inteiro é primo. Um número primo é \n",
        "#um número natural (maior que 1) cujos divisores inteiros são \n",
        "#somente 1 e o próprio número.\n",
        "#Para a seguinte entrada:\n",
        "  #7\n",
        "#A função deverá retornar:\n",
        "  #O número informado (7) é um número primo.\n",
        "#Para a seguinte entrada:\n",
        "  #8\n",
        "#A função deverá retornar:\n",
        "  #O número informado (8) não é um número primo."
      ]
    },
    {
      "cell_type": "code",
      "source": [
        "#Funções\n",
        "def verificar_primo(num):\n",
        "  flag = True\n",
        "\n",
        "  for i in range(2, int(num/2)+1):\n",
        "    if((num % i) == 0):\n",
        "      flag = False\n",
        "\n",
        "  return flag"
      ],
      "metadata": {
        "id": "OnlD8a7ySEVE"
      },
      "execution_count": null,
      "outputs": []
    },
    {
      "cell_type": "code",
      "source": [
        "#Main\n",
        "teste = 9\n",
        "if(verificar_primo(teste)):\n",
        "  print(\"O número informado (%d) é um número primo.\" % teste)\n",
        "else:\n",
        "  print(\"O número informado (%d) não é um número primo.\" % teste)\n"
      ],
      "metadata": {
        "id": "ZHB8ClcRSFWI"
      },
      "execution_count": null,
      "outputs": []
    }
  ]
}