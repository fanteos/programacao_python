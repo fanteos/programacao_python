{
  "nbformat": 4,
  "nbformat_minor": 0,
  "metadata": {
    "colab": {
      "name": "Exercício 02 - Contar Letras Minúsculas e Maiúsculas.ipynb",
      "private_outputs": true,
      "provenance": [],
      "collapsed_sections": []
    },
    "kernelspec": {
      "name": "python3",
      "display_name": "Python 3"
    },
    "language_info": {
      "name": "python"
    }
  },
  "cells": [
    {
      "cell_type": "code",
      "execution_count": null,
      "metadata": {
        "id": "TzbAALTB9LGz"
      },
      "outputs": [],
      "source": [
        "#Escreva um programa utilizando a linguagem python com uma função que receba \n",
        "#uma frase (string). A função então deverá retornar a quantidade de letras\n",
        "#maiúsculas e minúsculas na frase. \n",
        "#A função deverá retornar ambos os valores em uma única execução.\n",
        "\n",
        "#Para a seguinte entrada: \n",
        "  #Frase de Teste\n",
        "\n",
        "#A função deverá retornar: \n",
        "  #Quantidade de letras maiúsculas: 2\n",
        "  #Quantidade de letras minúsculas: 10"
      ]
    },
    {
      "cell_type": "code",
      "source": [
        "# Funções\n",
        "def contar_letras(string):\n",
        "  qtt_minus = 0\n",
        "  qtt_maisc = 0\n",
        "\n",
        "  for i in range(len(string)):\n",
        "    if(string[i].islower()):\n",
        "      qtt_minus += 1\n",
        "    elif(string[i].isupper()):\n",
        "      qtt_maisc += 1\n",
        "\n",
        "  return qtt_minus, qtt_maisc"
      ],
      "metadata": {
        "id": "DpZ_T3TOFj2z"
      },
      "execution_count": null,
      "outputs": []
    },
    {
      "cell_type": "code",
      "source": [
        "# Main\n",
        "string_teste = \"Frase de Teste\"\n",
        "qtt_minus, qtt_maisc = contar_letras(string_teste)\n",
        "print(\"Quantidade de letras minúsculas: %d\" % qtt_minus)\n",
        "print(\"Quantidade de letras maiúsculas: %d\" % qtt_maisc)"
      ],
      "metadata": {
        "id": "23oWmJXXFlzA"
      },
      "execution_count": null,
      "outputs": []
    }
  ]
}