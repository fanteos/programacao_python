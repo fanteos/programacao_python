{
  "nbformat": 4,
  "nbformat_minor": 0,
  "metadata": {
    "colab": {
      "name": "Exercício 03 - Imprimir as Potências de um Número.ipynb",
      "private_outputs": true,
      "provenance": [],
      "collapsed_sections": []
    },
    "kernelspec": {
      "name": "python3",
      "display_name": "Python 3"
    },
    "language_info": {
      "name": "python"
    }
  },
  "cells": [
    {
      "cell_type": "code",
      "execution_count": null,
      "metadata": {
        "id": "JN3QYPF8G_An"
      },
      "outputs": [],
      "source": [
        "#Escreva um programa utilizando a linguagem python com uma função \n",
        "#que receba um número inteiro K. A função então deverá imprimir \n",
        "#K elevado as potencias de 0 até 10.\n",
        "\n",
        "#Para a seguinte entrada: \n",
        "  #2\n",
        "\n",
        "#A função deverá imprimir: \n",
        "  #1\n",
        "  #2\n",
        "  #4\n",
        "  #8\n",
        "  #16\n",
        "  #32\n",
        "  #64\n",
        "  #128\n",
        "  #256\n",
        "  #512\n",
        "  #1024"
      ]
    },
    {
      "cell_type": "code",
      "source": [
        "# Função\n",
        "def imprimir_potencias(K, potencias=[0, 10]):\n",
        "  for i in range(potencias[0], potencias[1]+1, 1):\n",
        "    print(K**i)"
      ],
      "metadata": {
        "id": "jcv6deVEHg_P"
      },
      "execution_count": null,
      "outputs": []
    },
    {
      "cell_type": "code",
      "source": [
        "# Main\n",
        "imprimir_potencias(2)"
      ],
      "metadata": {
        "id": "D7Dzeb7jHicb"
      },
      "execution_count": null,
      "outputs": []
    }
  ]
}