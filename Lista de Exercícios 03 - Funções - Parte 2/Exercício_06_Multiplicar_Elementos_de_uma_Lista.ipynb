{
  "nbformat": 4,
  "nbformat_minor": 0,
  "metadata": {
    "colab": {
      "name": "Exercício 06 - Multiplicar Elementos de uma Lista.ipynb",
      "private_outputs": true,
      "provenance": []
    },
    "kernelspec": {
      "name": "python3",
      "display_name": "Python 3"
    },
    "language_info": {
      "name": "python"
    }
  },
  "cells": [
    {
      "cell_type": "code",
      "execution_count": null,
      "metadata": {
        "id": "_NoXWuP4NRyH"
      },
      "outputs": [],
      "source": [
        "#Escreva um programa utilizando a linguagem python com uma \n",
        "#função que receba uma lista de números inteiros e retorne \n",
        "#todos os elementos da lista multiplicados entre si.\n",
        "#Para a seguinte entrada:\n",
        "  #[1, 5, 2, 6, 3]\n",
        "#A função deverá retornar:\n",
        "  #180"
      ]
    },
    {
      "cell_type": "code",
      "source": [
        "#Funções\n",
        "def multiplicar_lista(lista):\n",
        "  resultado = lista[0]\n",
        "  for i in range(1, len(lista)):\n",
        "    resultado = resultado * lista[i]\n",
        "  #print(resultado)\n",
        "\n",
        "  #resultado = 1\n",
        "  #for i in lista:\n",
        "    #resultado = resultado * i\n",
        "  #print(resultado)\n",
        "\n",
        "  return resultado"
      ],
      "metadata": {
        "id": "IOOYO-PpQc2J"
      },
      "execution_count": null,
      "outputs": []
    },
    {
      "cell_type": "code",
      "source": [
        "#Main\n",
        "lista = [1, 5, 2, 6, 3]\n",
        "print(multiplicar_lista(lista))"
      ],
      "metadata": {
        "id": "rQjuoSQRQd-4"
      },
      "execution_count": null,
      "outputs": []
    }
  ]
}