{
  "nbformat": 4,
  "nbformat_minor": 0,
  "metadata": {
    "colab": {
      "name": "L4 E2.ipynb",
      "private_outputs": true,
      "provenance": [],
      "collapsed_sections": []
    },
    "kernelspec": {
      "name": "python3",
      "display_name": "Python 3"
    },
    "language_info": {
      "name": "python"
    }
  },
  "cells": [
    {
      "cell_type": "code",
      "execution_count": null,
      "metadata": {
        "id": "wfbFRHfec3qY"
      },
      "outputs": [],
      "source": [
        "#Escreva um programa que calcule a quantidade de latas de tinta \n",
        "#e o custo para pintar um tanques cilíndrico de combustível. Serão \n",
        "#fornecidos o raio e a altura desse cilindro. \n",
        "#Assuma o custo de uma lata de tinta como sendo R$75,00.\n",
        "\n",
        "#Sabe-se que:\n",
        "#a) Cada lata de tinta contém 5 litros\n",
        "#b) Cada litro de tinta pinta 3 metros quadrados;\n",
        "#c) Área do cilindro = 2 vezes a área da base + circunferência da base \n",
        "#vezes a altura;\n",
        "#d) O raio e altura do cilíndro serão os dados de entrada."
      ]
    },
    {
      "cell_type": "code",
      "source": [
        "import math\n",
        "#Funções\n",
        "def area_cilindro(altura, raio):\n",
        "  area = 2 * (math.pi * raio * raio)\n",
        "  area += 2*math.pi*raio*altura\n",
        "  return area\n",
        "\n",
        "def calcular_latas_para_pintura(altura, raio):\n",
        "  area_por_lata = 5 * 3\n",
        "  area_para_pintar = area_cilindro(altura, raio)\n",
        "\n",
        "  qtt_latas = math.ceil(area_para_pintar / area_por_lata)\n",
        "  return qtt_latas"
      ],
      "metadata": {
        "id": "oLJywA-Ymohm"
      },
      "execution_count": null,
      "outputs": []
    },
    {
      "cell_type": "code",
      "source": [
        "#Main\n",
        "altura = float(input(\"Por favor insira a altura: \"))\n",
        "raio = float(input(\"Por favor insira o raio: \"))\n",
        "preco_lata = 75\n",
        "qtt_latas = calcular_latas_para_pintura(altura, raio)\n",
        "\n",
        "print(\"A quantidade de latas necessárias é %d\" % qtt_latas)\n",
        "print(\"O custo para pintar o cilíndro é R$%d\" % (qtt_latas * preco_lata))"
      ],
      "metadata": {
        "id": "F-t_K7NQmqG3"
      },
      "execution_count": null,
      "outputs": []
    }
  ]
}