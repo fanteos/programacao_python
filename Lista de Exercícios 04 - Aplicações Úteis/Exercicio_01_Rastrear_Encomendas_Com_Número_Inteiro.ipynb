{
  "nbformat": 4,
  "nbformat_minor": 0,
  "metadata": {
    "colab": {
      "name": "L4 E1.ipynb",
      "private_outputs": true,
      "provenance": [],
      "collapsed_sections": []
    },
    "kernelspec": {
      "name": "python3",
      "display_name": "Python 3"
    },
    "language_info": {
      "name": "python"
    }
  },
  "cells": [
    {
      "cell_type": "code",
      "execution_count": null,
      "metadata": {
        "id": "VH6rzZhCccuZ"
      },
      "outputs": [],
      "source": [
        "#Escreva um programa que receba o início do código de rastreio de uma \n",
        "#encomenda. O programa então deverá imprimir de qual estado a encomenda \n",
        "#saiu de acordo com a lista abaixo. O programa deverá possuir uma função \n",
        "#chamada rastrear_encomenda, que receberá o código de rastreio \n",
        "#e imprimirá na tela a região de origem da encomenda.\n",
        "#a) 1 - Maranhão\n",
        "#b) 2 - Piauí\n",
        "#c) 3 - Ceara\n",
        "#d) 4 - Bahia\n",
        "#e) 5 ou 6 - Sergipe\n",
        "#f) 7, 8 ou 9 - Alagoas\n",
        "#g) C.C. - Não Cadastrado"
      ]
    },
    {
      "cell_type": "code",
      "source": [
        "#Funções\n",
        "def rastrear_encomenda(codigo):\n",
        "\n",
        "  if(codigo == 1):\n",
        "    print(\"Maranhão\")\n",
        "  elif(codigo == 2):\n",
        "    print(\"Piauí\")\n",
        "  elif(codigo == 3):\n",
        "    print(\"Ceara\")\n",
        "  elif(codigo == 4):\n",
        "    print(\"Bahia\")\n",
        "  elif((codigo == 5) or (codigo == 6)):\n",
        "    print(\"Sergipe\")\n",
        "  elif((codigo == 7) or (codigo == 8) or (codigo == 9)):\n",
        "    print(\"Alagoas\")\n",
        "  else:\n",
        "    print(\"Não Cadastrado\")\n"
      ],
      "metadata": {
        "id": "_BdL8BP-g8u_"
      },
      "execution_count": null,
      "outputs": []
    },
    {
      "cell_type": "code",
      "source": [
        "#Main\n",
        "codigo = int(input(\"Por favor insira o código de rastreio: \"))\n",
        "rastrear_encomenda(codigo)"
      ],
      "metadata": {
        "id": "Jph2zAWEg94x"
      },
      "execution_count": null,
      "outputs": []
    }
  ]
}