{
  "nbformat": 4,
  "nbformat_minor": 0,
  "metadata": {
    "colab": {
      "name": "L4 E4.ipynb",
      "private_outputs": true,
      "provenance": [],
      "collapsed_sections": []
    },
    "kernelspec": {
      "name": "python3",
      "display_name": "Python 3"
    },
    "language_info": {
      "name": "python"
    }
  },
  "cells": [
    {
      "cell_type": "code",
      "execution_count": null,
      "metadata": {
        "id": "06pF9910eMrf"
      },
      "outputs": [],
      "source": [
        "#Escreva um programa que possibilite ao usuário calcular a área e o \n",
        "#volume de diversas formas geométricas. Além disso, calcular o seno, cosseno \n",
        "#e tangente de um ângulo e calcular logaritmos de números. \n",
        "#O seu programa deve possuir o seguinte menu:\n",
        "\n",
        "#a) 1 - Calcular a área de um quadrado\n",
        "#b) 2 - Calcular a área de um círculo\n",
        "#c) 3 - Calcular o volume de um paralelepípedo\n",
        "#d) 4 - Calcular o volume de uma esfera\n",
        "#e) 5 - Calcular o seno de um ângulo\n",
        "#f) 6 - Calcular o cosseno de um ângulo\n",
        "#g) 7 - Calcular a tangente de um ângulo\n",
        "#h) 8 - Calcular o logaritmo de um número\n",
        "#i) 9 - Sair do Programa\n",
        "\n",
        "#Observação 1: Todos os valores informados e calculados no programa devem \n",
        "#ser pontos flutuantes.\n",
        "#Observação 2: Considere π = 3, 14159265.\n",
        "#Observação 3: Todos os valores exibidos pelas operações do programa devem \n",
        "#ser apresentados com oito casas decimais de precisão.\n",
        "#Observação 4: Depois de executada qualquer operação, com exceção de \n",
        "#\"Sair do Programa\", o menu deve ser exibido novamente para o usuário.\n",
        "#Observação 5: As opções 1, 2, 3 e 4 devem ser calculadas a partir \n",
        "#de funções implementadas por você."
      ]
    },
    {
      "cell_type": "code",
      "source": [
        "#Bibliotecas\n",
        "import math\n",
        "\n",
        "#Valores Globais\n",
        "PI_GLOBAL = 3.14159265\n",
        "\n",
        "#Funções\n",
        "def exibir_menu():\n",
        "  print(\"\\n1 - Calcular a área de um quadrado\")\n",
        "  print(\"2 - Calcular a área de um círculo\")\n",
        "  print(\"3 - Calcular o volume de um paralelepípedo\")\n",
        "  print(\"4 - Calcular o volume de uma esfera\")\n",
        "  print(\"5 - Calcular o seno de um ângulo\")\n",
        "  print(\"6 - Calcular o cosseno de um ângulo\")\n",
        "  print(\"7 - Calcular a tangente de um ângulo\")\n",
        "  print(\"8 - Calcular o logaritmo de um número\")\n",
        "  print(\"9 - Sair do Programa\\n\")\n",
        "\n",
        "def area_quadrado(l):\n",
        "  area = l**2\n",
        "  return float(area)\n",
        "\n",
        "def area_circulo(r):\n",
        "  area = PI_GLOBAL * (r**2)\n",
        "  return float(area)\n",
        "\n",
        "def volume_paralelepipedo(l1, l2, l3):\n",
        "  volume = l1 * l2 * l3\n",
        "  return float(volume)\n",
        "\n",
        "def volume_esfera(r):\n",
        "  volume = (4/3) * PI_GLOBAL * (r**3)\n",
        "  return float(volume)"
      ],
      "metadata": {
        "id": "9wSSnvt0J_93"
      },
      "execution_count": null,
      "outputs": []
    },
    {
      "cell_type": "code",
      "source": [
        "#Main\n",
        "\n",
        "exibir_menu()\n",
        "opcao_usuario = int(input(\"Selecione uma opção: \"))\n",
        "\n",
        "while(opcao_usuario != 9):\n",
        "\n",
        "  if(opcao_usuario == 1):\n",
        "    lado = float(input(\"Insira o lado do quadrado: \"))\n",
        "    print(\"%.8f\" % area_quadrado(lado))\n",
        "  elif(opcao_usuario == 2):\n",
        "    raio = float(input(\"Insira o raio do círculo: \"))\n",
        "    print(\"%.8f\" % area_circulo(raio))\n",
        "  elif(opcao_usuario == 3):\n",
        "    lado1 = float(input(\"Insira o lado 1 do paralelepípedo: \"))\n",
        "    lado2 = float(input(\"Insira o lado 2 do paralelepípedo: \"))\n",
        "    lado3 = float(input(\"Insira o lado 3 do paralelepípedo: \"))\n",
        "    print(\"%.8f\" % volume_paralelepipedo(lado1, lado2, lado3))\n",
        "  elif(opcao_usuario == 4):\n",
        "    raio = float(input(\"Insira o raio da esféra: \"))\n",
        "    print(\"%.8f\" % volume_esfera(raio))\n",
        "  elif(opcao_usuario == 5):\n",
        "    a = float(input(\"Insira o ângulo desejado: \"))\n",
        "    print(\"%.8f\" % math.sin(a))\n",
        "  elif(opcao_usuario == 6):\n",
        "    a = float(input(\"Insira o ângulo desejado: \"))\n",
        "    print(\"%.8f\" % math.cos(a))\n",
        "  elif(opcao_usuario == 7):\n",
        "    a = float(input(\"Insira o ângulo desejado: \"))\n",
        "    print(\"%.8f\" % math.tan(a))\n",
        "  elif(opcao_usuario == 8):\n",
        "    a = float(input(\"Insira o numero desejado: \"))\n",
        "    b = float(input(\"Insira a base desejada: \"))\n",
        "    print(\"%.8f\" % math.log(a, b))\n",
        "\n",
        "  exibir_menu()\n",
        "  opcao_usuario = int(input(\"Selecione uma opção: \"))"
      ],
      "metadata": {
        "id": "pSIE97u5LKOw"
      },
      "execution_count": null,
      "outputs": []
    }
  ]
}