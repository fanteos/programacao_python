{
  "nbformat": 4,
  "nbformat_minor": 0,
  "metadata": {
    "colab": {
      "name": "L4 E3.ipynb",
      "private_outputs": true,
      "provenance": [],
      "collapsed_sections": []
    },
    "kernelspec": {
      "name": "python3",
      "display_name": "Python 3"
    },
    "language_info": {
      "name": "python"
    }
  },
  "cells": [
    {
      "cell_type": "code",
      "execution_count": null,
      "metadata": {
        "id": "ZWBhbwEldsEj"
      },
      "outputs": [],
      "source": [
        "#Crie um programa que receba um vetor V de sete números inteiros e um \n",
        "#número inteiro N. O programa então deve exibir o menu a seguir com as \n",
        "#seguintes funcionalidades:\n",
        "#a) 1 - Somar (V + N)\n",
        "#b) 2 - Subtrair (V − N)\n",
        "#c) 3 - Multiplicar (V ∗ N)\n",
        "#d) 4 - Dividir ( V / N )\n",
        "#e) 5 - Elevar (V^{N})\n",
        "#f) 9 - Sair do Programa\n",
        "\n",
        "#Onde:\n",
        "#Somar: Soma o valor N a todos os elementos de V\n",
        "#Subtrair : Subtrai N de todos os elementos de V\n",
        "#Multiplicar: Multiplica todos os valores de V por N\n",
        "#Dividir: Divide todos os valores de V por N\n",
        "#Elevar: Eleva todos os valores de V à N\n",
        "#Sair do Programa: Encerra o programa\n",
        "\n",
        "#Observação 1: O vetor modificado deve ser exibido depois de cada operação \n",
        "#executada, com exceção de \"Sair do Programa\".\n",
        "#Observação 2: Depois de executada qualquer operação, com exceção de \n",
        "#\"Sair do Programa\", o menu deve ser exibido novamente para o usuário.\n",
        "#Observação 3: As operações devem ser executadas sobre o vetor original \n",
        "#informado pelo usuário."
      ]
    },
    {
      "cell_type": "code",
      "source": [
        "#Bibliotecas\n",
        "import numpy as np\n",
        "\n",
        "#Função\n",
        "def exibir_menu():\n",
        "  print(\"\\n1 - Somar (V + N)\")\n",
        "  print(\"2 - Subtrair (V − N)\")\n",
        "  print(\"3 - Multiplicar (V ∗ N)\")\n",
        "  print(\"4 - Dividir ( V / N )\")\n",
        "  print(\"5 - Elevar (V^{N})\")\n",
        "  print(\"9 - Sair do Programa\\n\")"
      ],
      "metadata": {
        "id": "xMiQa8xB6z0_"
      },
      "execution_count": null,
      "outputs": []
    },
    {
      "cell_type": "code",
      "source": [
        "#Main\n",
        "#receber entradas\n",
        "v = []\n",
        "for i in range(7):\n",
        "  temp = int(input(\"Insira o elemento V[%d]: \" % i))\n",
        "  v.append(temp)\n",
        "\n",
        "v = np.asarray(v, dtype=int)\n",
        "\n",
        "n = int(input(\"Por favor insira o valor de N: \"))\n",
        "\n",
        "exibir_menu()\n",
        "opcao_usuario = int(input(\"Informe a operação desejada: \"))\n",
        "\n",
        "while(opcao_usuario != 9):\n",
        "  if(opcao_usuario == 1):\n",
        "    print(v + n)\n",
        "  elif(opcao_usuario == 2):\n",
        "    print(v - n)\n",
        "  elif(opcao_usuario == 3):\n",
        "    print(v * n)\n",
        "  elif(opcao_usuario == 4):\n",
        "    print(v / n)\n",
        "  elif(opcao_usuario == 5):\n",
        "    print(v ** n)\n",
        "\n",
        "  exibir_menu()\n",
        "  opcao_usuario = int(input(\"Informe a operação desejada: \"))"
      ],
      "metadata": {
        "id": "YW7riXR77QpP"
      },
      "execution_count": null,
      "outputs": []
    }
  ]
}