{
  "nbformat": 4,
  "nbformat_minor": 0,
  "metadata": {
    "colab": {
      "name": "L4 E5.ipynb",
      "private_outputs": true,
      "provenance": [],
      "collapsed_sections": []
    },
    "kernelspec": {
      "name": "python3",
      "display_name": "Python 3"
    },
    "language_info": {
      "name": "python"
    }
  },
  "cells": [
    {
      "cell_type": "code",
      "execution_count": null,
      "metadata": {
        "id": "z7TaqqVtenBV"
      },
      "outputs": [],
      "source": [
        "#Escreva um programa que, dada a função (3/5)x**5 + 5x**3 − 3x**2 + 9x, \n",
        "#calcule o valor de um ponto aplicado na função e em suas primeira \n",
        "#e segunda derivadas. \n",
        "#O seu programa deve oferecer o seguinte menu ao usuário:\n",
        "\n",
        "#a) 1 - Verificar o valor da função em um ponto\n",
        "#b) 2 - Verificar o valor da primeira derivada da função em um ponto\n",
        "#c) 3 - Verificar o valor da segunda derivada da função em um ponto\n",
        "#d) 9 - Sair do Programa\n",
        "\n",
        "#Observação 1: Todos os valores informados e calculados no programa devem \n",
        "#ser pontos flutuantes.\n",
        "#Observação 2: Todos os valores exibidos pelas operações do programa devem \n",
        "#ser apresentados com oito casas decimais de precisão.\n",
        "#Observação 3: Depois de executada qualquer operação, com exceção de \n",
        "#\"Sair do Programa\", o menu deve ser exibido novamente para o usuário.\n",
        "#Observação 4: Todas as operações, com exceção de \"Sair do Programa\", devem ser\n",
        "#executadas por funções implementadas por você."
      ]
    },
    {
      "cell_type": "code",
      "source": [
        "#Funções\n",
        "def exibir_menu():\n",
        "  print(\"\\n1 - Verificar o valor da função em um ponto\")\n",
        "  print(\"2 - Verificar o valor da primeira derivada da função em um ponto\")\n",
        "  print(\"3 - Verificar o valor da segunda derivada da função em um ponto\")\n",
        "  print(\"9 - Sair do Programa\\n\")\n",
        "\n",
        "def f(x):\n",
        "  valor_f = (3/5)*(x**5) + 5*(x**3) - 3*(x**2) + 9*x\n",
        "  return valor_f\n",
        "\n",
        "def d1(x):\n",
        "  valor_d1 = 3*(x**4) + 15*(x**2) - 6*x + 9\n",
        "  return valor_d1\n",
        "\n",
        "def d2(x):\n",
        "  valor_d2 = 12*(x**3) +  30*x - 6 \n",
        "  return valor_d2"
      ],
      "metadata": {
        "id": "ILmx0J8Ep5Ix"
      },
      "execution_count": null,
      "outputs": []
    },
    {
      "cell_type": "code",
      "source": [
        "#Main\n",
        "exibir_menu()\n",
        "opcao = int(input(\"Por favor informe a opção desejada: \"))\n",
        "\n",
        "while(opcao != 9):\n",
        "  if(opcao == 1):\n",
        "    x = float(input(\"Por favor informe o ponto desejado: \"))\n",
        "    print(\"%.8f\" % f(x))\n",
        "  elif(opcao == 2):\n",
        "    x = float(input(\"Por favor informe o ponto desejado: \"))\n",
        "    print(\"%.8f\" % d1(x))\n",
        "  elif(opcao == 3):\n",
        "    x = float(input(\"Por favor informe o ponto desejado: \"))\n",
        "    print(\"%.8f\" % d2(x))\n",
        "\n",
        "  exibir_menu()\n",
        "  opcao = int(input(\"Por favor informe a opção desejada: \"))"
      ],
      "metadata": {
        "id": "itbjEFGap6WP"
      },
      "execution_count": null,
      "outputs": []
    }
  ]
}