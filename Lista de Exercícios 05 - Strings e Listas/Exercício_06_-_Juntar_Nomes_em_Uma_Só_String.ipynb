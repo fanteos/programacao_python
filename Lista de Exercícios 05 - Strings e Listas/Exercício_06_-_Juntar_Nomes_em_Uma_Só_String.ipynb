{
  "nbformat": 4,
  "nbformat_minor": 0,
  "metadata": {
    "colab": {
      "name": "L5 E6.ipynb",
      "private_outputs": true,
      "provenance": [],
      "collapsed_sections": []
    },
    "kernelspec": {
      "name": "python3",
      "display_name": "Python 3"
    },
    "language_info": {
      "name": "python"
    }
  },
  "cells": [
    {
      "cell_type": "code",
      "execution_count": null,
      "metadata": {
        "id": "-8sWHyrq5yut"
      },
      "outputs": [],
      "source": [
        "#Escreva um programa que receba separadamente o nome de uma pessoa \n",
        "#e os una em uma só string.\n",
        "\n",
        "#Para as entradas:\n",
        "#\"Felipe\"\n",
        "#\"Antunes\"\n",
        "#\"Dos Santos\"\n",
        "#A string final deve ser: \"Felipe Antunes dos Santos\""
      ]
    },
    {
      "cell_type": "code",
      "source": [
        "#Main\n",
        "\n",
        "nomes = []\n",
        "p = input(\"Por favor insira um nome (0 para encerrar): \")\n",
        "\n",
        "while(p != \"0\"):\n",
        "  nomes.append(p)\n",
        "  p = input(\"Por favor insira um nome (0 para encerrar): \")\n",
        "\n",
        "nome_final = \" \".join(nomes)\n",
        "print(nome_final)"
      ],
      "metadata": {
        "id": "3a0H8ZR8FxvP"
      },
      "execution_count": null,
      "outputs": []
    }
  ]
}