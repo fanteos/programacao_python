{
  "nbformat": 4,
  "nbformat_minor": 0,
  "metadata": {
    "colab": {
      "name": "L5 E1.ipynb",
      "private_outputs": true,
      "provenance": [],
      "collapsed_sections": []
    },
    "kernelspec": {
      "name": "python3",
      "display_name": "Python 3"
    },
    "language_info": {
      "name": "python"
    }
  },
  "cells": [
    {
      "cell_type": "code",
      "execution_count": null,
      "metadata": {
        "id": "N4m-uXQe4w0r"
      },
      "outputs": [],
      "source": [
        "#Escreva um programa que receba os nomes e as notas de cinco\n",
        "#alunos e exiba na tela o aluno com maior nota e a média da turma."
      ]
    },
    {
      "cell_type": "code",
      "source": [
        "#Biblioteca\n",
        "import numpy as np\n",
        "\n",
        "#Main\n",
        "notas = []\n",
        "nomes = []\n",
        "for i in range(5):\n",
        "  n = input(\"Por favor insira o nome do aluno %d: \" % (i+1))\n",
        "  nomes.append(n)\n",
        "  j = float(input(\"Por favor insira a nota do aluno %d: \" % (i+1)))\n",
        "  notas.append(j)\n",
        "\n",
        "#aluno com maior nota\n",
        "nosso_max = max(notas)\n",
        "for i in range(5):\n",
        "  if(notas[i] == nosso_max):\n",
        "    print(\"O aluno com maior nota é o %s\" % nomes[i])\n",
        "\n",
        "#média da turma\n",
        "print(\"A média da turma é %.2f\" % np.average(notas))\n"
      ],
      "metadata": {
        "id": "jneU6wJy6-kM"
      },
      "execution_count": null,
      "outputs": []
    }
  ]
}