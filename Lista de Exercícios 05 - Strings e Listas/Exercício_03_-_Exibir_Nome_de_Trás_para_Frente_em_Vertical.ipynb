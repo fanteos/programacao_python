{
  "nbformat": 4,
  "nbformat_minor": 0,
  "metadata": {
    "colab": {
      "name": "L5 E3.ipynb",
      "private_outputs": true,
      "provenance": [],
      "collapsed_sections": []
    },
    "kernelspec": {
      "name": "python3",
      "display_name": "Python 3"
    },
    "language_info": {
      "name": "python"
    }
  },
  "cells": [
    {
      "cell_type": "code",
      "execution_count": null,
      "metadata": {
        "id": "2MgeIEqJ5J67"
      },
      "outputs": [],
      "source": [
        "#Escreva um programa que permita ao usuário digitar o seu nome. \n",
        "#Em seguida o programa deve exibir o nome do usuário de trás para frente,\n",
        "#uma letra por linha, utilizando somente letras maiúsculas.\n",
        "\n",
        "#Exemplo de entrada: Felipe\n",
        "#O programa exibirá:\n",
        "#E\n",
        "#P\n",
        "#I\n",
        "#L\n",
        "#E\n",
        "#F"
      ]
    },
    {
      "cell_type": "code",
      "source": [
        "#Main\n",
        "nome = input(\"Por favor insira o nome: \")\n",
        "\n",
        "for i in range(len(nome)):\n",
        "  c = nome[len(nome) - 1 - i]\n",
        "  print(c.upper())"
      ],
      "metadata": {
        "id": "BcLaBjKh-16K"
      },
      "execution_count": null,
      "outputs": []
    }
  ]
}