{
  "nbformat": 4,
  "nbformat_minor": 0,
  "metadata": {
    "colab": {
      "name": "L5 E7.ipynb",
      "private_outputs": true,
      "provenance": [],
      "collapsed_sections": []
    },
    "kernelspec": {
      "name": "python3",
      "display_name": "Python 3"
    },
    "language_info": {
      "name": "python"
    }
  },
  "cells": [
    {
      "cell_type": "code",
      "execution_count": null,
      "metadata": {
        "id": "h4V1ngbO6TXK"
      },
      "outputs": [],
      "source": [
        "#Escreva um programa que dada uma string A, substitua todas as \n",
        "#ocorrências de \"Banana\" por \"Maçã\".\n",
        "\n",
        "#Para a string: Fui à feira das bananas comprar umas bananas para o café.\n",
        "#A string final deve ser: Fui à feira das maçãs comprar umas maçãs para o café."
      ]
    },
    {
      "cell_type": "code",
      "source": [
        "#Main\n",
        "frase_teste = \"Fui à feira das bananas comprar umas bananas para o café.\"\n",
        "frase_teste = frase_teste.replace(\"banana\", \"maçã\")\n",
        "frase_teste = frase_teste.replace(\"Banana\", \"Maçã\")\n",
        "print(frase_teste)"
      ],
      "metadata": {
        "id": "TtE_eGWeHLVI"
      },
      "execution_count": null,
      "outputs": []
    }
  ]
}