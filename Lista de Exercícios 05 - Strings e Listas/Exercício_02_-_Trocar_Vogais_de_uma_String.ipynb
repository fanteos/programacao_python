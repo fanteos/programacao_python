{
  "nbformat": 4,
  "nbformat_minor": 0,
  "metadata": {
    "colab": {
      "name": "L5 E2.ipynb",
      "private_outputs": true,
      "provenance": [],
      "collapsed_sections": []
    },
    "kernelspec": {
      "name": "python3",
      "display_name": "Python 3"
    },
    "language_info": {
      "name": "python"
    }
  },
  "cells": [
    {
      "cell_type": "code",
      "execution_count": null,
      "metadata": {
        "id": "XVwbybzU5Bvv"
      },
      "outputs": [],
      "source": [
        "#Escreva um programa que receba uma frase e troque todas as vogais \n",
        "#da frase pela letra A.\n",
        "\n",
        "#Exemplo de entrada: Irei caminhar hoje\n",
        "#Saída do programa: ArAA cAmAnhAr hAjA"
      ]
    },
    {
      "cell_type": "code",
      "source": [
        "#Funções\n",
        "def trocar_caracteres(frase):\n",
        "  frase = frase.replace(\"a\", \"A\")\n",
        "  frase = frase.replace(\"e\", \"A\")\n",
        "  frase = frase.replace(\"E\", \"A\")\n",
        "  frase = frase.replace(\"i\", \"A\")\n",
        "  frase = frase.replace(\"I\", \"A\")\n",
        "  frase = frase.replace(\"o\", \"A\")\n",
        "  frase = frase.replace(\"O\", \"A\")\n",
        "  frase = frase.replace(\"u\", \"A\")\n",
        "  frase = frase.replace(\"U\", \"A\")\n",
        "  return frase"
      ],
      "metadata": {
        "id": "qcAD7j2C9Ojm"
      },
      "execution_count": null,
      "outputs": []
    },
    {
      "cell_type": "code",
      "source": [
        "#Main\n",
        "frase_teste = \"Irei caminhar hoje\"\n",
        "print(trocar_caracteres(frase_teste))\n",
        "\n",
        "frase_teste2 = \"Amanha eh segunda\"\n",
        "print(trocar_caracteres(frase_teste2))"
      ],
      "metadata": {
        "id": "lW5ZVIQP9l-l"
      },
      "execution_count": null,
      "outputs": []
    }
  ]
}