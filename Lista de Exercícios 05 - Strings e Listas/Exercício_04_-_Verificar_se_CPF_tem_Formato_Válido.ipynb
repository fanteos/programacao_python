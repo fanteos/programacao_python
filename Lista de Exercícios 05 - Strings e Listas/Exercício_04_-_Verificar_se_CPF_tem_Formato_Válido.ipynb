{
  "nbformat": 4,
  "nbformat_minor": 0,
  "metadata": {
    "colab": {
      "name": "L5 E4.ipynb",
      "private_outputs": true,
      "provenance": [],
      "collapsed_sections": []
    },
    "kernelspec": {
      "name": "python3",
      "display_name": "Python 3"
    },
    "language_info": {
      "name": "python"
    }
  },
  "cells": [
    {
      "cell_type": "code",
      "execution_count": null,
      "metadata": {
        "id": "l4ohu3_c5VGi"
      },
      "outputs": [],
      "source": [
        "#Escreva um programa para a verificação da formatação válida de CPFs. \n",
        "#O programa deve receber uma string no formato xxx.xxx.xxx-xx. \n",
        "#O programa então deve verificar se a string inserida é constituída \n",
        "#por números e os separadores válidos.\n",
        "\n",
        "#Exemplo de entrada: 111.222.333-44\n",
        "#Saída do programa: Formato de CPF Válido.\n",
        "#Exemplo de entrada: 111.2a2.3b3-44\n",
        "#Saída do programa: O CPF informado não tem um formato válido."
      ]
    },
    {
      "cell_type": "code",
      "source": [
        "#Main\n",
        "TAM_CPF = 14\n",
        "cpf = input(\"Por favor insira o cpf: \")\n",
        "flag = True\n",
        "\n",
        "if(len(cpf) != TAM_CPF):\n",
        "  flag = False\n",
        "elif((cpf[3] != \".\") or (cpf[7] != \".\") or (cpf[-3] != \"-\")):\n",
        "  flag = False\n",
        "else:\n",
        "  for i in range(TAM_CPF):\n",
        "    if((i != 3) and (i != 7) and (i != 11)):\n",
        "      c = cpf[i]\n",
        "      if(not c.isdigit()):\n",
        "        flag = False\n",
        "\n",
        "if(flag):\n",
        "  print(\"Formato de CPF Válido.\")\n",
        "else:\n",
        "  print(\"O CPF informado não tem um formato válido.\")\n"
      ],
      "metadata": {
        "id": "9ZOGPQuvB-2q"
      },
      "execution_count": null,
      "outputs": []
    }
  ]
}