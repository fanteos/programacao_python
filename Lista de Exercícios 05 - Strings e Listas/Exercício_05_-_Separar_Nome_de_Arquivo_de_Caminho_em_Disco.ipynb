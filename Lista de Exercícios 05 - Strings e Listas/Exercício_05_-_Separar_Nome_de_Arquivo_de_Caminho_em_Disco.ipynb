{
  "nbformat": 4,
  "nbformat_minor": 0,
  "metadata": {
    "colab": {
      "name": "L5 E5.ipynb",
      "private_outputs": true,
      "provenance": [],
      "collapsed_sections": []
    },
    "kernelspec": {
      "name": "python3",
      "display_name": "Python 3"
    },
    "language_info": {
      "name": "python"
    }
  },
  "cells": [
    {
      "cell_type": "code",
      "execution_count": null,
      "metadata": {
        "id": "KAVdMPgv5jl3"
      },
      "outputs": [],
      "source": [
        "#Escreva um programa que seleciona o nome de um arquivo do caminho informado. \n",
        "#O programa deve possuir um caminho completo para um arquivo e deve \n",
        "#imprimir somente o nome do arquivo, sem extensão.\n",
        "\n",
        "#Para a string: C:/meus vídeos/viagens/salvador/virada_do_ano.mp4\n",
        "#O programa deve exibir: virada_do_ano"
      ]
    },
    {
      "cell_type": "code",
      "source": [
        "#Main\n",
        "caminho = \"C:/meus vídeos/viagens/salvador/virada_do_ano.mp4\"\n",
        "\n",
        "caminho = caminho[caminho.rfind(\"/\")+1:caminho.rfind(\".\")]\n",
        "print(caminho)"
      ],
      "metadata": {
        "id": "7PBCrDrCEzFq"
      },
      "execution_count": null,
      "outputs": []
    }
  ]
}