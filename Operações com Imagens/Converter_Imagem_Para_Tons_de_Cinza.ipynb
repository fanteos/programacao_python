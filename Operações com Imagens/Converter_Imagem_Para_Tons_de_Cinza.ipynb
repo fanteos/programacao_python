{
  "nbformat": 4,
  "nbformat_minor": 0,
  "metadata": {
    "colab": {
      "name": "Converter_Imagem_Para_Tons_de_Cinza.ipynb",
      "private_outputs": true,
      "provenance": [],
      "collapsed_sections": [],
      "toc_visible": true
    },
    "kernelspec": {
      "name": "python3",
      "display_name": "Python 3"
    },
    "language_info": {
      "name": "python"
    }
  },
  "cells": [
    {
      "cell_type": "code",
      "execution_count": null,
      "metadata": {
        "id": "CmZeGXEmFwcQ"
      },
      "outputs": [],
      "source": [
        "#Abrir uma imagem chama \"praia.png\"\n",
        "#Converter a imagem para tons de cinza\n",
        "#Guardar a imagem em tons de cinza"
      ]
    },
    {
      "cell_type": "code",
      "source": [
        "import cv2\n",
        "\n",
        "#Abrir a imagem\n",
        "caminho_imagem = \"praia.png\"\n",
        "imagem = cv2.imread(caminho_imagem)\n",
        "\n",
        "#Converter para tons de Cinza\n",
        "imagem_convertida = cv2.cvtColor(imagem, cv2.COLOR_BGR2GRAY)\n",
        "\n",
        "#Guardar a Imagem\n",
        "caminho_saida = caminho_imagem.replace(\".png\", \"_cinza.png\")\n",
        "cv2.imwrite(caminho_saida, imagem_convertida)"
      ],
      "metadata": {
        "id": "9HXZsOSENQty"
      },
      "execution_count": null,
      "outputs": []
    },
    {
      "cell_type": "code",
      "source": [
        "import cv2\n",
        "\n",
        "#Abrir a imagem\n",
        "caminho_imagem = \"praia.png\"\n",
        "imagem_convertida = cv2.imread(caminho_imagem, cv2.IMREAD_GRAYSCALE)\n",
        "\n",
        "#Guardar a Imagem\n",
        "caminho_saida = caminho_imagem.replace(\".png\", \"_cinza2.png\")\n",
        "cv2.imwrite(caminho_saida, imagem_convertida)"
      ],
      "metadata": {
        "id": "VbADJENDOMGp"
      },
      "execution_count": null,
      "outputs": []
    }
  ]
}