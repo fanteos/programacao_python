{
  "nbformat": 4,
  "nbformat_minor": 0,
  "metadata": {
    "colab": {
      "name": "L6 E4.ipynb",
      "private_outputs": true,
      "provenance": [],
      "collapsed_sections": []
    },
    "kernelspec": {
      "name": "python3",
      "display_name": "Python 3"
    },
    "language_info": {
      "name": "python"
    }
  },
  "cells": [
    {
      "cell_type": "code",
      "execution_count": null,
      "metadata": {
        "id": "5IcvWnPlDNE_"
      },
      "outputs": [],
      "source": [
        "#Escreva um programa que crie um arquivo de texto nomeado \"números.txt\". \n",
        "#O programa então deve escrever no arquivo a sequência de números de \n",
        "#um ao cem, um número por linha do arquivo."
      ]
    },
    {
      "cell_type": "code",
      "source": [
        "#Main\n",
        "\n",
        "#Criar o arquivo\n",
        "a = open(\"números.txt\", \"w\")\n",
        "\n",
        "#Inserir os números\n",
        "for i in range(100):\n",
        "  num = \"%d\\n\" % (i+1)\n",
        "  a.write(num)\n",
        "\n",
        "#Fechar o arquivo\n",
        "a.close()"
      ],
      "metadata": {
        "id": "ySBsnvTiWfjq"
      },
      "execution_count": null,
      "outputs": []
    }
  ]
}