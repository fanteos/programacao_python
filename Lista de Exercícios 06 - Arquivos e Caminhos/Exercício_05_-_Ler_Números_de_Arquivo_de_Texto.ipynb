{
  "nbformat": 4,
  "nbformat_minor": 0,
  "metadata": {
    "colab": {
      "name": "L6 E5.ipynb",
      "private_outputs": true,
      "provenance": [],
      "collapsed_sections": []
    },
    "kernelspec": {
      "name": "python3",
      "display_name": "Python 3"
    },
    "language_info": {
      "name": "python"
    }
  },
  "cells": [
    {
      "cell_type": "code",
      "execution_count": null,
      "metadata": {
        "id": "7Hh6OGMHDWrc"
      },
      "outputs": [],
      "source": [
        "#Escreva um programa que leia cem números presente em um arquivo nomeado \n",
        "#\"números.txt\". O arquivo possui cem números, um número por linha. \n",
        "#O seu programa deve ler todos os números do arquivo e os guardar em uma lista. \n",
        "#Ao fim do programa a lista com todos os números deve ser exibida na tela."
      ]
    },
    {
      "cell_type": "code",
      "source": [
        "#Main\n",
        "\n",
        "#Abrir o arquivo\n",
        "a = open(\"números.txt\", \"r\")\n",
        "\n",
        "#Ler os números\n",
        "numeros = []\n",
        "for i in range(100):\n",
        "  num = a.readline()\n",
        "  num = num[:-1]\n",
        "  num = int(num)\n",
        "  numeros.append(num)\n",
        "\n",
        "#Imprimir a Lista\n",
        "print(numeros)"
      ],
      "metadata": {
        "id": "s8cmzLY8YRPU"
      },
      "execution_count": null,
      "outputs": []
    }
  ]
}