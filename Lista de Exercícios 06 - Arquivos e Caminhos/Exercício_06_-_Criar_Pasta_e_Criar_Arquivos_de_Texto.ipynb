{
  "nbformat": 4,
  "nbformat_minor": 0,
  "metadata": {
    "colab": {
      "name": "L6 E6.ipynb",
      "private_outputs": true,
      "provenance": [],
      "collapsed_sections": []
    },
    "kernelspec": {
      "name": "python3",
      "display_name": "Python 3"
    },
    "language_info": {
      "name": "python"
    }
  },
  "cells": [
    {
      "cell_type": "code",
      "execution_count": null,
      "metadata": {
        "id": "Vb2-9jQyDcaq"
      },
      "outputs": [],
      "source": [
        "#Escreva um programa que crie uma pasta chamada \"Arquivos Teste\". \n",
        "#O programa então deve criar 100 arquivos de texto dentro da pasta \n",
        "#\"Arquivos Teste\". Os arquivos de texto devem ser nomeados com \n",
        "#números sequenciais de um ao cem, sempre com três dígitos. \n",
        "#O primeiro arquivo deve chamar \"001.txt\"  o último \"100.txt\"."
      ]
    },
    {
      "cell_type": "code",
      "source": [
        "#Bilbiotecas\n",
        "import os\n",
        "\n",
        "#Criamos a pasta alvo\n",
        "pasta_alvo = \"Arquivos Teste/\"\n",
        "if(not os.path.exists(pasta_alvo)):\n",
        "  os.mkdir(pasta_alvo)\n",
        "\n",
        "#Criamos os arquivos de texto\n",
        "for i in range(100):\n",
        "  a = open(pasta_alvo + (\"%03d.txt\" % (i+1)), \"w\")\n",
        "  a.close()"
      ],
      "metadata": {
        "id": "idNQZrH1Zt0e"
      },
      "execution_count": null,
      "outputs": []
    }
  ]
}