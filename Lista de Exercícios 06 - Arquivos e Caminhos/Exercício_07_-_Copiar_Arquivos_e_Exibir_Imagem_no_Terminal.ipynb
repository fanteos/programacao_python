{
  "nbformat": 4,
  "nbformat_minor": 0,
  "metadata": {
    "colab": {
      "name": "L6 E7.ipynb",
      "private_outputs": true,
      "provenance": [],
      "collapsed_sections": []
    },
    "kernelspec": {
      "name": "python3",
      "display_name": "Python 3"
    },
    "language_info": {
      "name": "python"
    }
  },
  "cells": [
    {
      "cell_type": "code",
      "execution_count": null,
      "metadata": {
        "id": "ObgiUfLZDoI0"
      },
      "outputs": [],
      "source": [
        "#Escreva um programa que copie o arquivo nomeado \"Dia de sol na praia.png\" \n",
        "#da pasta \"Meus Arquivos\" para a pasta \"Viagem para a Praia\". \n",
        "#Ambas as pastas \"Meus Arquivos\" e \"Viagem para a Praia\" devem estar no \n",
        "#mesmo diretório em que a resolução do exercício estiver."
      ]
    },
    {
      "cell_type": "code",
      "source": [
        "#Bilbiotecas\n",
        "import shutil, cv2\n",
        "import matplotlib.pyplot as plt \n",
        "\n",
        "caminho_origem = \"Meus Arquivos/Dia de sol na praia.png\"\n",
        "caminho_destino = \"Viagem para a Praia/foto1.png\"\n",
        "\n",
        "shutil.copy(caminho_origem, caminho_destino)\n",
        "\n",
        "#print(\"Imagem Origem\")\n",
        "#img_o = cv2.imread(caminho_origem)\n",
        "#plt.imshow(img_o)\n",
        "\n",
        "print(\"Imagem Destino\")\n",
        "img_d = cv2.imread(caminho_destino)\n",
        "plt.imshow(img_d)"
      ],
      "metadata": {
        "id": "n3DpG_e4bRQm"
      },
      "execution_count": null,
      "outputs": []
    }
  ]
}