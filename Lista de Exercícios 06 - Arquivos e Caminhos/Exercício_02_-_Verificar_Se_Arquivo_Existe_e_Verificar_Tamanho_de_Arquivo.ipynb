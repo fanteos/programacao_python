{
  "nbformat": 4,
  "nbformat_minor": 0,
  "metadata": {
    "colab": {
      "name": "L6 E2.ipynb",
      "private_outputs": true,
      "provenance": [],
      "collapsed_sections": []
    },
    "kernelspec": {
      "name": "python3",
      "display_name": "Python 3"
    },
    "language_info": {
      "name": "python"
    }
  },
  "cells": [
    {
      "cell_type": "code",
      "execution_count": null,
      "metadata": {
        "id": "iKD_9NQ8C5YV"
      },
      "outputs": [],
      "source": [
        "#Escreva um programa que verifique se o arquivo \n",
        "#\"Meus Arquivos/Dia de sol na praia.png\" existe. \n",
        "#O programa então deverá exibir na tela se o arquivo existe ou não. \n",
        "#Caso o arquivo exista, o programa então deve exibir o tamanho do arquivo."
      ]
    },
    {
      "cell_type": "code",
      "source": [
        "#Biblioteca\n",
        "import os\n",
        "\n",
        "caminho = \"Meus Arquivos/Dia de sol na praia.png\"\n",
        "\n",
        "if(os.path.exists(caminho)):\n",
        "  print(\"O arquivo existe. O tamanho do arquivo é %.2fMb\" % (os.path.getsize(caminho)/(1024*1024)))\n",
        "else:\n",
        "  print(\"O arquivo não existe\")"
      ],
      "metadata": {
        "id": "nYgoWvgeR8tK"
      },
      "execution_count": null,
      "outputs": []
    }
  ]
}