{
  "nbformat": 4,
  "nbformat_minor": 0,
  "metadata": {
    "colab": {
      "name": "L6 E3.ipynb",
      "private_outputs": true,
      "provenance": [],
      "collapsed_sections": []
    },
    "kernelspec": {
      "name": "python3",
      "display_name": "Python 3"
    },
    "language_info": {
      "name": "python"
    }
  },
  "cells": [
    {
      "cell_type": "code",
      "execution_count": null,
      "metadata": {
        "id": "tbOZUOBSDEo0"
      },
      "outputs": [],
      "source": [
        "#Escreva um programa que exiba o caminho absoluto de todas as \n",
        "#imagens de formato \".png\" na pasta \"Meus Arquivos\". \n",
        "#A pasta \"Meus Arquivos\" deve estar presente no mesmo local em que \n",
        "#a resolução desse exercício estiver. \n",
        "#Somente  o caminho das imagens deve ser exibidos."
      ]
    },
    {
      "cell_type": "code",
      "source": [
        "import glob, os\n",
        "\n",
        "caminho = \"Meus Arquivos/\"\n",
        "\n",
        "#Utilizando glob\n",
        "imagens = glob.glob(caminho + \"*.png\")\n",
        "print(imagens)\n",
        "\n",
        "#Utilizando os\n",
        "arquivos_e_pastas = os.listdir(caminho)\n",
        "for elemento in arquivos_e_pastas:\n",
        "  if(os.path.isfile(caminho + elemento)):\n",
        "    if(elemento[-4:] == \".png\"):\n",
        "      print(caminho + elemento)"
      ],
      "metadata": {
        "id": "F126kbebTn-l"
      },
      "execution_count": null,
      "outputs": []
    }
  ]
}