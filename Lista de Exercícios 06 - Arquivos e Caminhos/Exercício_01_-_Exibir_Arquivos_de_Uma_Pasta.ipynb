{
  "nbformat": 4,
  "nbformat_minor": 0,
  "metadata": {
    "colab": {
      "name": "L6 E1.ipynb",
      "private_outputs": true,
      "provenance": [],
      "collapsed_sections": []
    },
    "kernelspec": {
      "name": "python3",
      "display_name": "Python 3"
    },
    "language_info": {
      "name": "python"
    }
  },
  "cells": [
    {
      "cell_type": "code",
      "source": [
        "#Escreva um programa que exiba o nome de todos os arquivos \n",
        "#presentes na pasta \"Meus Arquivos\". A pasta \"Meus Arquivos\" \n",
        "#deve estar presente no mesmo local em que a resolução desse \n",
        "#exercício estiver. Somente os arquivos devem ser exibidos, \n",
        "#ignorando diretórios."
      ],
      "metadata": {
        "id": "7NKZ5cMYCxOR"
      },
      "execution_count": null,
      "outputs": []
    },
    {
      "cell_type": "code",
      "source": [
        "import os\n",
        "\n",
        "\n",
        "#Main\n",
        "caminho = \"Meus Arquivos/\"\n",
        "\n",
        "pastas_e_arquivos = os.listdir(caminho)\n",
        "\n",
        "for elemento in pastas_e_arquivos:\n",
        "  if(os.path.isfile(caminho + elemento)):\n",
        "    print(elemento)"
      ],
      "metadata": {
        "id": "hZgtH_IKQdLO"
      },
      "execution_count": null,
      "outputs": []
    }
  ]
}