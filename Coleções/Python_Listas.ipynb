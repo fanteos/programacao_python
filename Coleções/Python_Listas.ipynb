{
  "nbformat": 4,
  "nbformat_minor": 0,
  "metadata": {
    "colab": {
      "name": "Python-Listas.ipynb",
      "private_outputs": true,
      "provenance": [],
      "collapsed_sections": []
    },
    "kernelspec": {
      "name": "python3",
      "display_name": "Python 3"
    },
    "language_info": {
      "name": "python"
    }
  },
  "cells": [
    {
      "cell_type": "markdown",
      "source": [
        "#Programação Python - Listas (lists)\n",
        "  As listas são coleções de dados padrões do Python\n",
        "\n",
        "\n",
        "1.   Coleção: Permite armazenar vários valores em uma única estrutura\n",
        "2.   Padrão: Já vem por padrão no próprio python\n",
        "\n",
        "\n",
        "\n"
      ],
      "metadata": {
        "id": "zyuouLt61dHv"
      }
    },
    {
      "cell_type": "code",
      "execution_count": null,
      "metadata": {
        "id": "zza7gUwA1OSn"
      },
      "outputs": [],
      "source": [
        "#Declaração\n",
        "l1 = []\n",
        "\n",
        "l2 = [1, 2, 3, 4, 5]\n",
        "\n",
        "l3 = [1.5, 1.6, 1.7, 1.8]\n",
        "\n",
        "l4 = [1, 5, \"abacaxi\", 1.8, \"aula\", 5, [1, 2, 3]]\n",
        "\n",
        "print(l4)"
      ]
    },
    {
      "cell_type": "code",
      "source": [
        "#Unindo multiplas listas\n",
        "l5 = l4 + l3\n",
        "print(l5)"
      ],
      "metadata": {
        "id": "1ygo8lmK7HQo"
      },
      "execution_count": null,
      "outputs": []
    },
    {
      "cell_type": "code",
      "source": [
        "#Listas são indexadas\n",
        "l4 = [1, 5, \"abacaxi\", 1.8, \"aula\", 5, [1, 2, 3]]\n",
        "\n",
        "print(l4[2:5])\n",
        "#print(l4[-1])"
      ],
      "metadata": {
        "id": "yRBMsUGM2UR5"
      },
      "execution_count": null,
      "outputs": []
    },
    {
      "cell_type": "code",
      "source": [
        "qtt_elementos_lista = len(l4)\n",
        "for i in range(qtt_elementos_lista):\n",
        "  print(l4[i], end=\" \")"
      ],
      "metadata": {
        "id": "-mE8J4fc5Tax"
      },
      "execution_count": null,
      "outputs": []
    },
    {
      "cell_type": "code",
      "source": [
        "for i in l4:\n",
        "  print(i, end=\" \")"
      ],
      "metadata": {
        "id": "xADWRTbf5neR"
      },
      "execution_count": null,
      "outputs": []
    },
    {
      "cell_type": "code",
      "source": [
        "for idx, val in enumerate(l4):\n",
        "  print(idx, val)"
      ],
      "metadata": {
        "id": "_zFKinE3318U"
      },
      "execution_count": null,
      "outputs": []
    },
    {
      "cell_type": "code",
      "source": [
        "#Listas são mutáveis\n",
        "l4 = [1, 5, \"abacaxi\", 1.8, \"aula\", 5, [1, 2, 3]]\n",
        "\n",
        "print(l4)\n",
        "l4[2] = 9\n",
        "print(l4)"
      ],
      "metadata": {
        "id": "6vYUolVd2Ww5"
      },
      "execution_count": null,
      "outputs": []
    },
    {
      "cell_type": "code",
      "source": [
        "#Compreensões\n",
        "l4 = [1, 5, \"abacaxi\", 1.8, \"aula\", 5, [1, 2, 3]]\n",
        "\n",
        "#l0 = []\n",
        "#for i in l4:\n",
        "#  if(type(i) == int):\n",
        "#    l0.append(i)\n",
        "\n",
        "#print(l0)\n",
        "l0 = [i for i in l4 if isinstance(i, int)]\n",
        "print(l0)"
      ],
      "metadata": {
        "id": "mkYEXRii6Poa"
      },
      "execution_count": null,
      "outputs": []
    },
    {
      "cell_type": "markdown",
      "source": [
        "#Métodos das Listas"
      ],
      "metadata": {
        "id": "2dw0SREI2nQ5"
      }
    },
    {
      "cell_type": "code",
      "source": [
        "l4 = [1, 5, \"abacaxi\", 1.8, \"aula\", 5, [1, 2, 3]]"
      ],
      "metadata": {
        "id": "9j8edeAA4Hat"
      },
      "execution_count": null,
      "outputs": []
    },
    {
      "cell_type": "code",
      "source": [
        "#append() Adiciona um elemento ao final da lista\n",
        "l4.append(99)\n",
        "l4.append(\"casa\")\n",
        "print(l4)"
      ],
      "metadata": {
        "id": "HrXxe4h73ekB"
      },
      "execution_count": null,
      "outputs": []
    },
    {
      "cell_type": "code",
      "source": [
        "#insert()\tAdiciona um elemento em uma posição específica\n",
        "l4 = [1, 5, \"abacaxi\", 1.8, \"aula\", 5, [1, 2, 3]]\n",
        "l4.insert(2, \"banana\")\n",
        "print(l4)"
      ],
      "metadata": {
        "id": "hX3rOO1u3pxp"
      },
      "execution_count": null,
      "outputs": []
    },
    {
      "cell_type": "code",
      "source": [
        "#remove()\tRemove um elemento de determinado valor da lista\n",
        "l4 = [1, 5, \"abacaxi\", 1.8, \"aula\", 5, [1, 2, 3]]\n",
        "l4.remove(5)\n",
        "print(l4)"
      ],
      "metadata": {
        "id": "kFInl5gy3skx"
      },
      "execution_count": null,
      "outputs": []
    },
    {
      "cell_type": "code",
      "source": [
        "#count()\tRetorna o número de vezes que um determinador valor aparece na lista\n",
        "l4 = [1, 5, \"abacaxi\", 1.8, \"aula\", 5, [1, 2, 3]]\n",
        "print(l4.count(\"abacaxi\"))\n",
        "print(l4.count(5))"
      ],
      "metadata": {
        "id": "Ya_x3WBB3kPZ"
      },
      "execution_count": null,
      "outputs": []
    },
    {
      "cell_type": "code",
      "source": [
        "#index()\tRetorna o índice de um determinado valor na lista\n",
        "l4 = [1, 5, \"abacaxi\", 1.8, \"aula\", 5, [1, 2, 3]]\n",
        "#print(l4.index(1.8))\n",
        "print(l4.index(5))"
      ],
      "metadata": {
        "id": "gZ4SCMyE3o2y"
      },
      "execution_count": null,
      "outputs": []
    },
    {
      "cell_type": "code",
      "source": [
        "#sort(reverse=True|False, key=func))\tOrdena os elementos da lista\n",
        "l6  = [13, 24, 1, 156, 1666, 9, 0]\n",
        "print(l6)\n",
        "l6.sort()\n",
        "print(l6)"
      ],
      "metadata": {
        "id": "VXRpT9O93vG7"
      },
      "execution_count": null,
      "outputs": []
    },
    {
      "cell_type": "code",
      "source": [
        "l6 = [13, 24, 1, 156, 111, 1666, 9, 0]\n",
        "\n",
        "def fun(b):\n",
        "  val_b = len(str(b))\n",
        "  return val_b\n",
        "\n",
        "l6.sort(reverse=True, key=fun)\n",
        "print(l6)"
      ],
      "metadata": {
        "id": "6WM_Gk6y6ZLU"
      },
      "execution_count": null,
      "outputs": []
    },
    {
      "cell_type": "code",
      "source": [
        "#reverse()\tInverte a ordem dos elementos na lista\n",
        "l4 = [1, 5, \"abacaxi\", 1.8, \"aula\", 5, [1, 2, 3]]\n",
        "print(l4)\n",
        "l4.reverse()\n",
        "print(l4)"
      ],
      "metadata": {
        "id": "4Xni6tEo3trZ"
      },
      "execution_count": null,
      "outputs": []
    },
    {
      "cell_type": "code",
      "source": [
        "#clear()\tRemove todos os elementos da lista\n",
        "l4 = [1, 5, \"abacaxi\", 1.8, \"aula\", 5, [1, 2, 3]]\n",
        "print(l4)\n",
        "l4.clear()\n",
        "print(l4)"
      ],
      "metadata": {
        "id": "cjV1J8KO3gop"
      },
      "execution_count": null,
      "outputs": []
    },
    {
      "cell_type": "code",
      "source": [
        "#copy()\tRetorna uma cópia exata da lista\n",
        "l4 = [1, 5, \"abacaxi\", 1.8, \"aula\", 5, [1, 2, 3]]\n",
        "l7 = l4.copy()\n",
        "l7[2] = \"manga\"\n",
        "print(l4)\n",
        "print(l7)"
      ],
      "metadata": {
        "id": "vf_l20vc3ixp"
      },
      "execution_count": null,
      "outputs": []
    },
    {
      "cell_type": "code",
      "source": [
        "#Listas são passadas por referência\n",
        "l4 = [1, 5, \"abacaxi\", 1.8, \"aula\", 5, [1, 2, 3]]\n",
        "print(l4)\n",
        "l7 = l4\n",
        "l7[2] = \"manga\"\n",
        "print(l4)"
      ],
      "metadata": {
        "id": "nQ7T5Jrc72JM"
      },
      "execution_count": null,
      "outputs": []
    },
    {
      "cell_type": "code",
      "source": [
        "#extend()\tAdiciona elementos de uma lista ou estrutura iterativa ao final de outra lista\n",
        "l4 = [1, 5, \"abacaxi\", 1.8, \"aula\", 5, [1, 2, 3]]\n",
        "#l5 = l4 + [1, 2, 5, 6]\n",
        "#print(l5)\n",
        "#l4 = l4 + range(0, 50, 2)\n",
        "l4.extend(range(0, 50, 2))\n",
        "print(l4)"
      ],
      "metadata": {
        "id": "e1F42Rvw3nNB"
      },
      "execution_count": null,
      "outputs": []
    },
    {
      "cell_type": "code",
      "source": [
        "#pop()\tRemove um elemento de uma posição específica da lista\n",
        "l4 = [1, 5, \"abacaxi\", 1.8, \"aula\", 5, [1, 2, 3]]\n",
        "print(l4)\n",
        "val = l4.pop(3)\n",
        "print(l4)\n",
        "print(val)"
      ],
      "metadata": {
        "id": "Vfw5GHr03rHS"
      },
      "execution_count": null,
      "outputs": []
    }
  ]
}